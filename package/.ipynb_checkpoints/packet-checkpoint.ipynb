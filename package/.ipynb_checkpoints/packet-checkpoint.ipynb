{
 "cells": [
  {
   "cell_type": "code",
   "execution_count": 7,
   "metadata": {
    "collapsed": true
   },
   "outputs": [],
   "source": [
    "n = 3\n",
    "c = 10\n",
    "res=[[-1 for j in range(c+1)] for i in range(n+1)]  "
   ]
  },
  {
   "cell_type": "code",
   "execution_count": 30,
   "metadata": {
    "collapsed": true
   },
   "outputs": [],
   "source": [
    "def zero_one_package(capacity,costs,values):\n",
    "    res = [0 for i in range(capacity+1)]\n",
    "    num = len(values)\n",
    "    selected = [[] for i in range(capacity+1)]\n",
    "    for i in range(num):\n",
    "        if costs[i]>capacity:\n",
    "            continue\n",
    "        seq = range(costs[i],capacity+1)\n",
    "        seq.reverse()\n",
    "        for j in seq:\n",
    "            temp_value = res[j-costs[i]]+values[i]\n",
    "            if res[j] < temp_value:\n",
    "                res[j] = temp_value\n",
    "                selected[j] = selected[j-costs[i]][:]\n",
    "                selected[j].append(i)\n",
    "    return res[capacity],selected[capacity]            "
   ]
  },
  {
   "cell_type": "code",
   "execution_count": 35,
   "metadata": {},
   "outputs": [
    {
     "name": "stdout",
     "output_type": "stream",
     "text": [
      "best value is 10 \n"
     ]
    },
    {
     "data": {
      "text/plain": [
       "[0, 2]"
      ]
     },
     "execution_count": 35,
     "metadata": {},
     "output_type": "execute_result"
    }
   ],
   "source": [
    "capacity=10\n",
    "costs=[4,6,5]\n",
    "values=[4,5,6]\n",
    "best_value,selected = zero_one_package(capacity,costs,values)\n",
    "print('best value is %d ' % best_value)\n",
    "selected"
   ]
  },
  {
   "cell_type": "code",
   "execution_count": 16,
   "metadata": {
    "collapsed": true
   },
   "outputs": [],
   "source": [
    "def full_package(capacity,costs,values):\n",
    "    res = [0 for i in range(capacity+1)]\n",
    "    num = len(values)\n",
    "    selected = [[] for i in range(capacity+1)]\n",
    "    for i in range(num):\n",
    "        seq = range(costs[i],capacity+1)\n",
    "        for j in seq:\n",
    "#             temp_value = res[j-costs[i]] + values[i]\n",
    "#             res[j] = max(temp_value,res[j])\n",
    "            temp_value = res[j-costs[i]]+values[i]\n",
    "            if res[j] < temp_value:\n",
    "                res[j] = temp_value\n",
    "                selected[j] = selected[j-costs[i]][:]\n",
    "                selected[j].append(i)\n",
    "    return res[capacity],selected[capacity]"
   ]
  },
  {
   "cell_type": "code",
   "execution_count": 17,
   "metadata": {},
   "outputs": [
    {
     "name": "stdout",
     "output_type": "stream",
     "text": [
      "best value is 10 \n"
     ]
    },
    {
     "data": {
      "text/plain": [
       "[0, 2]"
      ]
     },
     "execution_count": 17,
     "metadata": {},
     "output_type": "execute_result"
    }
   ],
   "source": [
    "capacity=10\n",
    "costs=[4,6,6]\n",
    "values=[4,5,6]\n",
    "best_value,select = full_package(capacity,costs,values)\n",
    "print('best value is %d ' % best_value)\n",
    "select"
   ]
  },
  {
   "cell_type": "code",
   "execution_count": null,
   "metadata": {
    "collapsed": true
   },
   "outputs": [],
   "source": []
  }
 ],
 "metadata": {
  "kernelspec": {
   "display_name": "Python 2",
   "language": "python",
   "name": "python2"
  },
  "language_info": {
   "codemirror_mode": {
    "name": "ipython",
    "version": 2
   },
   "file_extension": ".py",
   "mimetype": "text/x-python",
   "name": "python",
   "nbconvert_exporter": "python",
   "pygments_lexer": "ipython2",
   "version": "2.7.13"
  }
 },
 "nbformat": 4,
 "nbformat_minor": 2
}
