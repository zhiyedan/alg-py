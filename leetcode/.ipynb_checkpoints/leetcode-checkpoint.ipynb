{
 "cells": [
  {
   "cell_type": "markdown",
   "metadata": {},
   "source": [
    "# 650. 2 Keys Keyboard\n",
    "> Initially on a notepad only one character 'A' is present. You can perform two operations on this notepad for each step:\n",
    "- Copy All: You can copy all the characters present on the notepad (partial copy is not allowed).\n",
    "- Paste: You can paste the characters which are copied last time.\n",
    "- Given a number n. You have to get exactly n 'A' on the notepad by performing the minimum number of steps permitted. Output the minimum number of steps to get n 'A'.\n",
    "\n",
    "```\n",
    "Input: 3\n",
    "Output: 3\n",
    "Explanation:\n",
    "Intitally, we have one character 'A'.\n",
    "In step 1, we use Copy All operation.\n",
    "In step 2, we use Paste operation to get 'AA'.\n",
    "In step 3, we use Paste operation to get 'AAA'.\n",
    "```\n",
    "> The **n** will be in the range [1, 1000]."
   ]
  },
  {
   "cell_type": "code",
   "execution_count": 2,
   "metadata": {},
   "outputs": [
    {
     "data": {
      "text/plain": [
       "5"
      ]
     },
     "execution_count": 2,
     "metadata": {},
     "output_type": "execute_result"
    }
   ],
   "source": [
    "def minSteps(n):\n",
    "    if n==1:\n",
    "        return 0\n",
    "    res=[i for i in range(n+1)]\n",
    "    for i in range(3,n+1):\n",
    "        for j in range(int(i/2),1,-1):\n",
    "            if(i%j==0):\n",
    "                res[i] = res[j] + res[i/j]\n",
    "                break\n",
    "    return res[n]\n",
    "minSteps(6)"
   ]
  },
  {
   "cell_type": "markdown",
   "metadata": {},
   "source": [
    "point: `res[i] = res[j] + res[i/j]`\n",
    "- copy所有的字符，所以找因子最为关键。\n"
   ]
  },
  {
   "cell_type": "markdown",
   "metadata": {
    "collapsed": true
   },
   "source": [
    "## 下面是错误的代码"
   ]
  },
  {
   "cell_type": "code",
   "execution_count": null,
   "metadata": {
    "collapsed": true
   },
   "outputs": [],
   "source": [
    " if n == 1:\n",
    "            return 0\n",
    "        res = [i for i in range(n+1)]\n",
    "        for i in range(3,n+1):\n",
    "            for j in range(int(i/2),1,-1):\n",
    "                if i/j==0:\n",
    "                    res[i] = res[j] + res[i/j]\n",
    "                    break\n",
    "        return res[n]"
   ]
  },
  {
   "cell_type": "markdown",
   "metadata": {
    "collapsed": true
   },
   "source": [
    "错误原因：`/`应该是 `%`"
   ]
  },
  {
   "cell_type": "markdown",
   "metadata": {},
   "source": [
    "# 392. Is Subsequence"
   ]
  },
  {
   "cell_type": "markdown",
   "metadata": {},
   "source": [
    "Given a string s and a string t, check if s is subsequence of t.\n",
    "\n",
    "You may assume that there is only lower case English letters in both s and t. t is potentially a very long (length ~= 500,000) string, and s is a short string (<=100)."
   ]
  },
  {
   "cell_type": "code",
   "execution_count": 5,
   "metadata": {
    "collapsed": true
   },
   "outputs": [],
   "source": [
    "def isSubsequence(s, t):\n",
    "    len_s,len_t = len(s),len(t)\n",
    "    if len_s > len_t:\n",
    "        return False\n",
    "    j = 0\n",
    "    for i in range(len_t):\n",
    "        if(t[i]==s[j]):\n",
    "            j = j+1\n",
    "            if(j == len_s):\n",
    "                return True\n",
    "    return False"
   ]
  },
  {
   "cell_type": "markdown",
   "metadata": {},
   "source": [
    "**没有考虑到s为空的情景**"
   ]
  },
  {
   "cell_type": "markdown",
   "metadata": {
    "collapsed": true
   },
   "source": [
    "# 494. Target Sum"
   ]
  },
  {
   "cell_type": "markdown",
   "metadata": {},
   "source": [
    "You are given a list of non-negative integers, a1, a2, ..., an, and a target, S. Now you have 2 symbols + and -. For each integer, you should choose one from + and - as its new symbol.\n",
    "\n",
    "Find out how many ways to assign symbols to make sum of integers equal to target S.\n",
    "\n",
    "```\n",
    "Input: nums is [1, 1, 1, 1, 1], S is 3. \n",
    "Output: 5\n",
    "Explanation: \n",
    "\n",
    "-1+1+1+1+1 = 3\n",
    "+1-1+1+1+1 = 3\n",
    "+1+1-1+1+1 = 3\n",
    "+1+1+1-1+1 = 3\n",
    "+1+1+1+1-1 = 3\n",
    "```\n",
    "**Note**:\n",
    "1. The length of the given array is positive and will not exceed 20.\n",
    "2. The sum of elements in the given array will not exceed 1000.\n",
    "3. Your output answer is guaranteed to be fitted in a 32-bit integer.\n"
   ]
  },
  {
   "cell_type": "markdown",
   "metadata": {},
   "source": [
    "## 思路\n",
    "```\n",
    "p-positive sum \n",
    "n-negative sum\n",
    "\n",
    "p + n = sum\n",
    "p - n = s\n",
    "p = (sum+s)/2\n",
    "```\n",
    "问题转化为：在nums中找到sum为s的元素，典型的DP问题"
   ]
  },
  {
   "cell_type": "markdown",
   "metadata": {},
   "source": [
    "## 问题 memory Error\n",
    "[1,2,7,9,981]\n",
    "\n",
    "1000000000\n"
   ]
  },
  {
   "cell_type": "code",
   "execution_count": 30,
   "metadata": {
    "collapsed": true
   },
   "outputs": [],
   "source": [
    "def findTargetSumWays(nums, S):\n",
    "    sums = sum(nums)\n",
    "    if abs(S)>sums or len(nums)==0 or (sums+S)%2!=0:\n",
    "        return 0\n",
    "    target_sum = (sums+S)>>1\n",
    "    dp = [1] + [0]*(target_sum)\n",
    "    for num in nums:\n",
    "        for i in range(target_sum,num-1,-1):\n",
    "            dp[i] = dp[i] + dp[i-num]\n",
    "    return dp[target_sum]"
   ]
  },
  {
   "cell_type": "markdown",
   "metadata": {},
   "source": [
    "## 反思\n",
    "1. 之前出现的内存问题是因为`sums`写成了`sum`。。。。 \n"
   ]
  },
  {
   "cell_type": "code",
   "execution_count": 32,
   "metadata": {},
   "outputs": [
    {
     "data": {
      "text/plain": [
       "defaultdict(int,\n",
       "            {-40: 1,\n",
       "             -28: 1,\n",
       "             -26: 1,\n",
       "             -24: 1,\n",
       "             -22: 1,\n",
       "             -20: 1,\n",
       "             -14: 1,\n",
       "             -12: 1,\n",
       "             -10: 2,\n",
       "             -8: 2,\n",
       "             -6: 2,\n",
       "             -4: 1,\n",
       "             -2: 1,\n",
       "             2: 1,\n",
       "             4: 1,\n",
       "             6: 2,\n",
       "             8: 2,\n",
       "             10: 2,\n",
       "             12: 1,\n",
       "             14: 1,\n",
       "             20: 1,\n",
       "             22: 1,\n",
       "             24: 1,\n",
       "             26: 1,\n",
       "             28: 1,\n",
       "             40: 1})"
      ]
     },
     "execution_count": 32,
     "metadata": {},
     "output_type": "execute_result"
    }
   ],
   "source": [
    "from collections import defaultdict\n",
    "nums = [6,7,8,9,10]\n",
    "s = 200000\n",
    "memo = {0: 1}\n",
    "for x in nums:\n",
    "    m = defaultdict(int)\n",
    "    for s, n in memo.iteritems():\n",
    "        m[s + x] += n\n",
    "        m[s - x] += n\n",
    "    memo = m\n",
    "memo"
   ]
  },
  {
   "cell_type": "markdown",
   "metadata": {},
   "source": [
    "## defaultdict()的用法\n",
    "- 可以不断的扩展，并且有默认值。"
   ]
  },
  {
   "cell_type": "code",
   "execution_count": 22,
   "metadata": {},
   "outputs": [
    {
     "data": {
      "text/plain": [
       "defaultdict(list, {'blue': [2, 4], 'red': [1], 'yellow': [1, 3]})"
      ]
     },
     "execution_count": 22,
     "metadata": {},
     "output_type": "execute_result"
    }
   ],
   "source": [
    "import collections\n",
    "s = [('yellow', 1), ('blue', 2), ('yellow', 3), ('blue', 4), ('red', 1)]\n",
    "\n",
    "# defaultdict\n",
    "d = collections.defaultdict(list)\n",
    "for k, v in s:\n",
    "    d[k].append(v)\n",
    "d"
   ]
  },
  {
   "cell_type": "code",
   "execution_count": 24,
   "metadata": {},
   "outputs": [
    {
     "data": {
      "text/plain": [
       "defaultdict(int, {'i': 4, 'm': 1, 'p': 2, 's': 4})"
      ]
     },
     "execution_count": 24,
     "metadata": {},
     "output_type": "execute_result"
    }
   ],
   "source": [
    "from collections import defaultdict\n",
    "s = 'mississippi'\n",
    "d = defaultdict(int)\n",
    "for k in s:\n",
    "    d[k] += 1\n",
    "d"
   ]
  },
  {
   "cell_type": "markdown",
   "metadata": {
    "collapsed": true
   },
   "source": [
    "# 486. Predict the Winner"
   ]
  },
  {
   "cell_type": "markdown",
   "metadata": {},
   "source": [
    "## description\n",
    "Given an array of scores that are non-negative integers. Player 1 picks one of the numbers from either end of the array followed by the player 2 and then player 1 and so on.\n",
    "\n",
    "```\n",
    "Input: [1, 5, 2]\n",
    "Output: False\n",
    "Input: [1, 5, 233, 7]\n",
    "Output: True\n",
    "```\n",
    "## 说明\n",
    "每个人都按照必须赢的方式选择数字，所以先手能否赢是确定的。"
   ]
  },
  {
   "cell_type": "code",
   "execution_count": 24,
   "metadata": {},
   "outputs": [
    {
     "data": {
      "text/plain": [
       "False"
      ]
     },
     "execution_count": 24,
     "metadata": {},
     "output_type": "execute_result"
    },
    {
     "data": {
      "text/plain": [
       "0"
      ]
     },
     "execution_count": 24,
     "metadata": {},
     "output_type": "execute_result"
    }
   ],
   "source": [
    "# 按照递归的思想来做\n",
    "# 定义递归函数的输入为左右区间，当前sum，返回能取到最大的sum。\n",
    "\n",
    "dic = {}\n",
    "count = 0\n",
    "\n",
    "def PredictTheWinner(nums):\n",
    "    dict = {}\n",
    "    if len(nums)==0:\n",
    "        return False\n",
    "    if recurve(nums,0,len(nums)-1,sum(nums))*2 >= sum(nums):\n",
    "        return True\n",
    "    return False\n",
    "\n",
    "def recurve(nums,start,end,cur_sum):\n",
    "    global count\n",
    "    if (start,end) in dic:\n",
    "        count = count+1\n",
    "        return dic[(start,end)]\n",
    "    if start==end:\n",
    "        return nums[start]\n",
    "    value = max(cur_sum-recurve(nums,start+1,end,cur_sum-nums[start]),cur_sum-recurve(nums,start,end-1,cur_sum-nums[end]))\n",
    "    dic[(start,end)] = value\n",
    "    return value\n",
    "\n",
    "PredictTheWinner([1,3,1])\n",
    "count"
   ]
  },
  {
   "cell_type": "markdown",
   "metadata": {},
   "source": [
    "## Tips:\n",
    "- 函数内用到全局变量需要加 `global var`\n",
    "- python dic 多键值 `dic={(key11,key12):value, (key21,key22):value2}`\n",
    "- 递归搜索一般有重复计算，需要记忆存储。\n",
    "- 如果是class的话写法就和与上面的不一样"
   ]
  },
  {
   "cell_type": "code",
   "execution_count": 25,
   "metadata": {
    "collapsed": true
   },
   "outputs": [],
   "source": [
    "class Solution(object):\n",
    "    dic = {}\n",
    "    def recurve(self,nums,start,end,cur_sum):\n",
    "        if (start,end) in self.dic:\n",
    "            return self.dic[(start,end)]\n",
    "        if start==end:\n",
    "            return nums[start]\n",
    "        value = max(cur_sum-self.recurve(nums,start+1,end,cur_sum-nums[start]),cur_sum-self.recurve(nums,start,end-1,cur_sum-nums[end]))\n",
    "        self.dic[(start,end)] = value\n",
    "        return value\n",
    "    def PredictTheWinner(self, nums):\n",
    "        \"\"\"\n",
    "        :type nums: List[int]\n",
    "        :rtype: bool\n",
    "        \"\"\"\n",
    "        self.dic={}\n",
    "        if len(nums)==0:\n",
    "            return False\n",
    "        if self.recurve(nums,0,len(nums)-1,sum(nums))*2 >= sum(nums):\n",
    "            return True\n",
    "        return False"
   ]
  },
  {
   "cell_type": "code",
   "execution_count": null,
   "metadata": {
    "collapsed": true
   },
   "outputs": [],
   "source": []
  },
  {
   "cell_type": "markdown",
   "metadata": {
    "collapsed": true
   },
   "source": [
    "# 312. Burst Balloons"
   ]
  },
  {
   "cell_type": "markdown",
   "metadata": {},
   "source": [
    "Given n balloons, indexed from 0 to n-1. Each balloon is painted with a number on it represented by array nums. You are asked to burst all the balloons. If the you burst balloon i you will get nums[left] * nums[i] * nums[right] coins. Here left and right are adjacent indices of i. After the burst, the left and right then becomes adjacent.\n",
    "\n",
    "Find the maximum coins you can collect by bursting the balloons wisely.\n",
    "\n",
    "Note: \n",
    "(1) You may imagine nums[-1] = nums[n] = 1. They are not real therefore you can not burst them.\n",
    "(2) 0 ≤ n ≤ 500, 0 ≤ nums[i] ≤ 100\n",
    "\n",
    "Example:\n",
    "\n",
    "Given [3, 1, 5, 8]\n",
    "\n",
    "Return 167\n",
    "\n",
    "```\n",
    " nums = [3,1,5,8] --> [3,5,8] -->   [3,8]   -->  [8]  --> []\n",
    " coins =  3*1*5      +  3*5*8    +  1*3*8      + 1*8*1   = 167\n",
    "\n",
    "```"
   ]
  },
  {
   "cell_type": "code",
   "execution_count": 7,
   "metadata": {
    "collapsed": true
   },
   "outputs": [],
   "source": [
    "def maxCoins(nums):\n",
    "    nums = [1] + nums + [1]\n",
    "    n = len(nums)\n",
    "    dp = [[0]*n for _ in range(n)]\n",
    "    \n",
    "    for k in range(2,n):\n",
    "        for left in range(n-k):\n",
    "            right = left + k\n",
    "            for i in range(left+1,right):\n",
    "                dp[left][right] = max(dp[left][right],nums[left]*nums[i]*nums[right]+dp[left][i]+dp[i][right])\n",
    "                print dp\n",
    "    return dp[0][n-1]\n",
    "                "
   ]
  },
  {
   "cell_type": "markdown",
   "metadata": {},
   "source": [
    "## 小技巧\n",
    "**python 产生二维数组**\n",
    "\n",
    "`result = [[0]*4 for _ in range(4)]`"
   ]
  },
  {
   "cell_type": "markdown",
   "metadata": {},
   "source": [
    "# 股票交易问题"
   ]
  },
  {
   "cell_type": "markdown",
   "metadata": {},
   "source": [
    "# 121. Best Time to Buy and Sell Stock"
   ]
  },
  {
   "cell_type": "markdown",
   "metadata": {},
   "source": [
    "Say you have an array for which the ith element is the price of a given stock on day i.\n",
    "\n",
    "If you were only permitted to complete at most one transaction (ie, buy one and sell one share of the stock), design an algorithm to find the maximum profit.\n",
    "\n",
    "只有一次交易机会\n",
    "\n",
    "```\n",
    "Input: [7, 1, 5, 3, 6, 4]\n",
    "Output: 5\n",
    "```"
   ]
  },
  {
   "cell_type": "code",
   "execution_count": 21,
   "metadata": {
    "collapsed": true
   },
   "outputs": [],
   "source": [
    "class Solution(object):\n",
    "    \n",
    "    max_profit = 0\n",
    "    \n",
    "    def maxProfit(self, prices):\n",
    "        \"\"\"\n",
    "        :type prices: List[int]\n",
    "        :rtype: int\n",
    "        \"\"\"\n",
    "        self.max_profit = 0\n",
    "        self.recurve(prices,0,len(prices)-1)\n",
    "        return self.max_profit\n",
    "\n",
    "    def recurve(self,prices,left,right):\n",
    "        if left>=right:\n",
    "            return \n",
    "        mid = (left+right)>>1\n",
    "        self.max_profit = max(self.max_profit,max(prices[mid+1:right+1])-min(prices[left:mid+1]))\n",
    "        self.recurve(prices,left,mid)\n",
    "        self.recurve(prices,mid+1,right)"
   ]
  },
  {
   "cell_type": "markdown",
   "metadata": {},
   "source": [
    "## tips\n",
    "- 边界问题需要注意，当left/right相邻时，mid=left,此时list[left,mid]为空，报错。"
   ]
  },
  {
   "cell_type": "markdown",
   "metadata": {},
   "source": [
    "# 最大子数列问题 - kadance算法\n",
    "最大子数列问题的目标是在数列的一维方向找到一个连续的子数列，使该子数列的和最大。例如，对一个数列 −2, 1, −3, 4, −1, 2, 1, −5, 4，其连续子数列中和最大的是 4, −1, 2, 1, 其和为6。\n",
    "\n",
    "```\n",
    "def max_subarray(A):\n",
    "    max_ending_here = max_so_far = A[0]\n",
    "    for x in A[1:]:\n",
    "        max_ending_here = max(x, max_ending_here + x)\n",
    "        max_so_far = max(max_so_far, max_ending_here)\n",
    "    return max_so_far\n",
    "    \n",
    "// 如果数列中含有负数元素，允许返回长度为零的子数列。该问题可用如下代码解决：\n",
    "def max_subarray(A):\n",
    "    max_ending_here = max_so_far = 0\n",
    "    for x in A:\n",
    "        max_ending_here = max(0, max_ending_here + x)\n",
    "        max_so_far = max(max_so_far, max_ending_here)\n",
    "    return max_so_far\n",
    "```"
   ]
  },
  {
   "cell_type": "code",
   "execution_count": 1,
   "metadata": {
    "collapsed": true
   },
   "outputs": [],
   "source": [
    "def maxProfit(self, prices):\n",
    "        \n",
    "        if len(prices)<1:\n",
    "            return 0\n",
    "        cur_min = prices[0]\n",
    "        profit = 0\n",
    "        \n",
    "        for price in prices:\n",
    "            cur_min = min(cur_min,price)\n",
    "            profit = max(profit,price-cur_min)\n",
    "        return profit"
   ]
  },
  {
   "cell_type": "markdown",
   "metadata": {},
   "source": [
    "## Tips\n",
    "- 时间复杂度O(n)\n",
    "- 思路：从前往后遍历数组，记录遍历的最小值，然后将当前值与最小值求差，得到profit，记录最大profit。"
   ]
  },
  {
   "cell_type": "markdown",
   "metadata": {},
   "source": [
    "# 122. Best Time to Buy and Sell Stock II"
   ]
  },
  {
   "cell_type": "markdown",
   "metadata": {},
   "source": [
    "Say you have an array for which the ith element is the price of a given stock on day i.\n",
    "\n",
    "Design an algorithm to find the maximum profit. \n",
    "\n",
    "You may complete as many transactions as you like (ie, buy one and sell one share of the stock multiple times). \n",
    "\n",
    "However, you may not engage in multiple transactions at the same time (ie, you must sell the stock before you buy again).\n",
    "- 可以多次交易"
   ]
  },
  {
   "cell_type": "code",
   "execution_count": null,
   "metadata": {
    "collapsed": true
   },
   "outputs": [],
   "source": []
  }
 ],
 "metadata": {
  "kernelspec": {
   "display_name": "Python 2",
   "language": "python",
   "name": "python2"
  },
  "language_info": {
   "codemirror_mode": {
    "name": "ipython",
    "version": 2
   },
   "file_extension": ".py",
   "mimetype": "text/x-python",
   "name": "python",
   "nbconvert_exporter": "python",
   "pygments_lexer": "ipython2",
   "version": "2.7.13"
  }
 },
 "nbformat": 4,
 "nbformat_minor": 2
}
